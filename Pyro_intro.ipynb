{
 "cells": [
  {
   "cell_type": "code",
   "execution_count": 2,
   "metadata": {},
   "outputs": [],
   "source": [
    "import numpy as np\n",
    "import matplotlib.pyplot as plt\n",
    "\n",
    "import torch\n",
    "\n",
    "import pyro\n",
    "import pyro.infer\n",
    "import pyro.optim\n",
    "import pyro.distributions as dist\n",
    "\n",
    "torch.manual_seed(101);"
   ]
  },
  {
   "cell_type": "markdown",
   "metadata": {},
   "source": [
    "## Models in Pyro "
   ]
  },
  {
   "cell_type": "markdown",
   "metadata": {},
   "source": [
    "* The basic unit of Pyro programs is the *stochastic function*. A *stochastic function* consits of two parts:\n",
    "    * A deterministic python code\n",
    "    * primitive stochastic function\n",
    "* A stochastic function can be any python object with `__call__()` like a function, method or Pytorch `nn.Module()`. \n",
    "* Stochastic fucntions can be seen as models as they used to represent simplified or abstract descriptions of a process by which data are generated. \n"
   ]
  },
  {
   "cell_type": "markdown",
   "metadata": {},
   "source": [
    "## Primitive Stochastic Functions"
   ]
  },
  {
   "cell_type": "markdown",
   "metadata": {},
   "source": [
    "* Use **Pytorch's** disctribution library.\n",
    "* Can create custom distributions using **transforms**"
   ]
  },
  {
   "cell_type": "markdown",
   "metadata": {},
   "source": [
    "### Drawing sample from unit Normal "
   ]
  },
  {
   "cell_type": "code",
   "execution_count": 3,
   "metadata": {},
   "outputs": [],
   "source": [
    "loc = 0.   # mean zero\n",
    "scale = 1. # unit variance"
   ]
  },
  {
   "cell_type": "code",
   "execution_count": 4,
   "metadata": {},
   "outputs": [],
   "source": [
    "normal = dist.Normal(loc, scale) # create a normal distribution object"
   ]
  },
  {
   "cell_type": "code",
   "execution_count": 5,
   "metadata": {},
   "outputs": [
    {
     "name": "stdout",
     "output_type": "stream",
     "text": [
      "sample tensor(-1.3905)\n",
      "log prob tensor(-1.8857)\n"
     ]
    }
   ],
   "source": [
    "x = normal.sample() # draw a sample from N(0,1)\n",
    "print(\"sample\", x)\n",
    "print(\"log prob\", normal.log_prob(x)) # score the sample from N(0,1)"
   ]
  },
  {
   "cell_type": "markdown",
   "metadata": {},
   "source": [
    "* Parameters passed to the `dist.Normal` are `torch.Tensors` so to be able to make use of **Pytorchs** autograd capabiltites duruing inference."
   ]
  },
  {
   "cell_type": "markdown",
   "metadata": {},
   "source": [
    "### Sampling "
   ]
  },
  {
   "cell_type": "code",
   "execution_count": 6,
   "metadata": {},
   "outputs": [
    {
     "name": "stdout",
     "output_type": "stream",
     "text": [
      "tensor(-0.8152)\n"
     ]
    }
   ],
   "source": [
    "x = pyro.sample(\"my_sample\", dist.Normal(loc, scale))\n",
    "y = pyro.sample(\"my_sample\", dist.Normal(loc, scale))\n",
    "print(x)"
   ]
  },
  {
   "cell_type": "markdown",
   "metadata": {},
   "source": [
    "* Sample is named\n",
    "* Pyro’s backend uses these names to uniquely identify sample statements"
   ]
  },
  {
   "cell_type": "markdown",
   "metadata": {},
   "source": [
    "## Simple Model "
   ]
  },
  {
   "cell_type": "markdown",
   "metadata": {},
   "source": [
    "Let’s suppose we have a bunch of data with daily mean temperatures and cloud cover. We want to reason about how temperature interacts with whether it was sunny or cloudy. A simple stochastic function that does that is given by:"
   ]
  },
  {
   "cell_type": "code",
   "execution_count": 7,
   "metadata": {},
   "outputs": [
    {
     "name": "stdout",
     "output_type": "stream",
     "text": [
      "('sunny', 86.06607818603516)\n",
      "('sunny', 71.22065734863281)\n",
      "('sunny', 68.44023895263672)\n"
     ]
    }
   ],
   "source": [
    "def weather():\n",
    "    cloudy = pyro.sample('cloudy', dist.Bernoulli(0.3))\n",
    "    cloudy = 'cloudy' if cloudy.item() == 1.0 else 'sunny'\n",
    "    mean_temp = {'cloudy': 55.0, 'sunny': 75.0}[cloudy]\n",
    "    scale_temp = {'cloudy': 10.0, 'sunny': 15.0}[cloudy]\n",
    "    temp = pyro.sample('temp', dist.Normal(mean_temp, scale_temp))\n",
    "    return cloudy, temp.item()\n",
    "\n",
    "for _ in range(3):\n",
    "    print(weather())"
   ]
  },
  {
   "cell_type": "code",
   "execution_count": 8,
   "metadata": {},
   "outputs": [],
   "source": [
    "def ice_cream_sales():\n",
    "    cloudy, temp = weather()\n",
    "    expected_sales = 200. if cloudy == 'sunny' and temp > 80.0 else 50.\n",
    "    ice_cream = pyro.sample('ice_cream', dist.Normal(expected_sales, 10.0))\n",
    "    return ice_cream"
   ]
  },
  {
   "cell_type": "code",
   "execution_count": 9,
   "metadata": {},
   "outputs": [
    {
     "data": {
      "text/plain": [
       "tensor(202.1530)"
      ]
     },
     "execution_count": 9,
     "metadata": {},
     "output_type": "execute_result"
    }
   ],
   "source": [
    "ice_cream_sales()"
   ]
  },
  {
   "cell_type": "markdown",
   "metadata": {},
   "source": [
    "## Stochastic Recursion, Higher-order Stochastic Functions, and Random Control Flow "
   ]
  },
  {
   "cell_type": "markdown",
   "metadata": {},
   "source": [
    "* Since pyro is embedded in python, stochastic functions can be arbitrarily complex and randomness can freely affect the control flow.\n",
    "* Example, a recursive function whose termination is non-deterministic\n",
    " * Shown below is a gemoetric series that counts number of failure until first success."
   ]
  },
  {
   "cell_type": "code",
   "execution_count": 10,
   "metadata": {},
   "outputs": [
    {
     "name": "stdout",
     "output_type": "stream",
     "text": [
      "151\n"
     ]
    }
   ],
   "source": [
    "def geometric(p, t=None):\n",
    "    if t is None:\n",
    "        t = 0\n",
    "        \n",
    "    ######### Make sure unique sample names are passed\n",
    "    x = pyro.sample(\"x_{}\".format(t), dist.Bernoulli(p)) \n",
    "    \n",
    "    if x.item() == 1:\n",
    "        return 0\n",
    "    else:\n",
    "        return 1 + geometric(p, t + 1)\n",
    "\n",
    "print(geometric(0.01))"
   ]
  },
  {
   "cell_type": "markdown",
   "metadata": {},
   "source": [
    "* Stochastic functions that accept as input or produce as output other stochastic functions:"
   ]
  },
  {
   "cell_type": "code",
   "execution_count": 11,
   "metadata": {},
   "outputs": [
    {
     "name": "stdout",
     "output_type": "stream",
     "text": [
      "tensor(0.4620)\n"
     ]
    }
   ],
   "source": [
    "def normal_product(loc, scale):\n",
    "    z1 = pyro.sample(\"z1\", dist.Normal(loc, scale))\n",
    "    z2 = pyro.sample(\"z2\", dist.Normal(loc, scale))\n",
    "    y = z1 * z2\n",
    "    return y\n",
    "\n",
    "def make_normal_normal():\n",
    "    mu_latent = pyro.sample(\"mu_latent\", dist.Normal(0, 1))\n",
    "    fn = lambda scale: normal_product(mu_latent, scale)\n",
    "    return fn\n",
    "\n",
    "print(make_normal_normal()(3.))"
   ]
  },
  {
   "cell_type": "markdown",
   "metadata": {},
   "source": [
    "# Inference "
   ]
  },
  {
   "cell_type": "markdown",
   "metadata": {},
   "source": [
    "* You have an object of which you want to measure the weight\n",
    "* You have a weighing machine with is unreliable"
   ]
  },
  {
   "cell_type": "code",
   "execution_count": 25,
   "metadata": {},
   "outputs": [],
   "source": [
    "def scale(guess):\n",
    "#     var = pyro.sample(\"var\", dist.Normal(guess, 1.0))\n",
    "    var = 1\n",
    "    # The prior over weight encodes our uncertainty about our guess\n",
    "    weight = pyro.sample(\"weight\", dist.Normal(guess, var))\n",
    "    # This encodes our belief about the noisiness of the scale:\n",
    "    # the measurement fluctuates around the true weight\n",
    "    return pyro.sample(\"measurement\", dist.Normal(weight, 0.75))"
   ]
  },
  {
   "cell_type": "markdown",
   "metadata": {},
   "source": [
    "* Suppose we want to get an estimate of the object weight using this model\n",
    "* This involves marginializing followed by sampling\n",
    "* Marginialization in Pyro is done using `pyro.infer.EmpericalMarginal`\n",
    "    * First collect a number of weighted exection traces of the model\n",
    "    * Collapse traces into histogram of possible return values"
   ]
  },
  {
   "cell_type": "code",
   "execution_count": 26,
   "metadata": {},
   "outputs": [],
   "source": [
    "posterior = pyro.infer.Importance(scale, num_samples=100)"
   ]
  },
  {
   "cell_type": "code",
   "execution_count": 27,
   "metadata": {},
   "outputs": [
    {
     "name": "stdout",
     "output_type": "stream",
     "text": [
      "tensor(8.0804)\n"
     ]
    }
   ],
   "source": [
    "guess = 8.5\n",
    "\n",
    "marginal = pyro.infer.EmpiricalMarginal(posterior.run(guess))\n",
    "print(marginal())"
   ]
  },
  {
   "cell_type": "markdown",
   "metadata": {},
   "source": [
    "* `marginal` first uses posterior to genereate weighted execution traces\n",
    "* Builds a histogram over return values\n",
    "* Samples from this histogram"
   ]
  },
  {
   "cell_type": "code",
   "execution_count": 28,
   "metadata": {},
   "outputs": [
    {
     "data": {
      "image/png": "[encoded data removed]",
      "text/plain": [
       "<Figure size 432x288 with 1 Axes>"
      ]
     },
     "metadata": {},
     "output_type": "display_data"
    }
   ],
   "source": [
    "plt.hist([marginal().item() for _ in range(100)], range=(5.0, 12.0))\n",
    "plt.title(\"P(measurement | guess)\")\n",
    "plt.xlabel(\"weight\")\n",
    "plt.ylabel(\"#\");"
   ]
  },
  {
   "cell_type": "markdown",
   "metadata": {},
   "source": [
    "# Conditioning on Data (Observe)"
   ]
  },
  {
   "cell_type": "markdown",
   "metadata": {},
   "source": [
    "* Given observed data we want to infer the latent factors that could have generated it\n",
    "* `pyro.condition` allows to constrain the value of sample statements"
   ]
  },
  {
   "cell_type": "code",
   "execution_count": 29,
   "metadata": {},
   "outputs": [],
   "source": [
    "# Takes as input\n",
    "# 1. Model\n",
    "# 2. Dictionary containing the observed values\n",
    "conditioned_scale = pyro.condition(\n",
    "    scale, data={\"measurement\": 9.5})\n",
    "# returns a new model \n",
    "# Has same input and output signatures but always uses the given values at observed sample statements"
   ]
  },
  {
   "cell_type": "code",
   "execution_count": 30,
   "metadata": {},
   "outputs": [],
   "source": [
    "def deferred_conditioned_scale(measurement, *args, **kwargs):\n",
    "    return pyro.condition(scale, data={\"measurement\": measurement})(*args, **kwargs)"
   ]
  },
  {
   "cell_type": "markdown",
   "metadata": {},
   "source": [
    "### Passing observed value directly to sample statement"
   ]
  },
  {
   "cell_type": "code",
   "execution_count": 31,
   "metadata": {},
   "outputs": [],
   "source": [
    "# `obs` keyword is reserved for this purpose\n",
    "def scale_obs(guess):\n",
    "    weight = pyro.sample(\"weight\", dist.Normal(guess, 1.))\n",
    "     # here we attach an observation measurement == 9.5\n",
    "    return pyro.sample(\"measurement\", dist.Normal(weight, 1.),\n",
    "                       obs=9.5)"
   ]
  },
  {
   "cell_type": "markdown",
   "metadata": {},
   "source": [
    "* Hardcoding is not recomended due to non-compositional nature"
   ]
  },
  {
   "cell_type": "code",
   "execution_count": 32,
   "metadata": {},
   "outputs": [],
   "source": [
    "def scale2(guess):\n",
    "    weight = pyro.sample(\"weight\", dist.Normal(guess, 1.))\n",
    "    tolerance = torch.abs(pyro.sample(\"tolerance\", dist.Normal(0., 1.)))\n",
    "    return pyro.sample(\"measurement\", dist.Normal(weight, tolerance))\n",
    "\n",
    "# conditioning composes:\n",
    "# the following are all equivalent and do not interfere with each other\n",
    "conditioned_scale2_1 = pyro.condition(\n",
    "    pyro.condition(scale2, data={\"weight\": 9.2}),\n",
    "    data={\"measurement\": 9.5})\n",
    "\n",
    "conditioned_scale2_2 = pyro.condition(\n",
    "    pyro.condition(scale2, data={\"measurement\": 9.5}),\n",
    "    data={\"weight\": 9.2})\n",
    "\n",
    "conditioned_scale2_3 = pyro.condition(\n",
    "    scale2, data={\"weight\": 9.2, \"measurement\": 9.5})"
   ]
  },
  {
   "cell_type": "markdown",
   "metadata": {},
   "source": [
    "## Flexible Approximate Inference With Guide Functions "
   ]
  },
  {
   "cell_type": "code",
   "execution_count": 33,
   "metadata": {},
   "outputs": [
    {
     "name": "stdout",
     "output_type": "stream",
     "text": [
      "tensor(8.9153)\n"
     ]
    },
    {
     "data": {
      "image/png": "[encoded data removed]",
      "text/plain": [
       "<Figure size 432x288 with 1 Axes>"
      ]
     },
     "metadata": {},
     "output_type": "display_data"
    }
   ],
   "source": [
    "guess = 8.5\n",
    "measurement = 9.5\n",
    "\n",
    "conditioned_scale = pyro.condition(scale, data={\"measurement\": measurement})\n",
    "\n",
    "marginal = pyro.infer.EmpiricalMarginal(\n",
    "    pyro.infer.Importance(conditioned_scale, num_samples=100).run(guess), sites=\"weight\")\n",
    "# When site is specified marginal will compute the marginal distribution of that site, \n",
    "#rather than of the return value\n",
    "\n",
    "# The marginal distribution concentrates around the data\n",
    "print(marginal())\n",
    "plt.hist([marginal().item() for _ in range(100)], range=(5.0, 12.0))\n",
    "plt.title(\"P(weight | measurement, guess)\")\n",
    "plt.xlabel(\"weight\")\n",
    "plt.ylabel(\"#\");"
   ]
  },
  {
   "cell_type": "markdown",
   "metadata": {},
   "source": [
    "* The above set up is inefficient because the prior distribution over `weigths` may be very far from true distribution depending on the intial value of `guess`\n",
    "* Pryo supports arbitrary stochastic functions, guide function/guides, as approximate posterior dist\n",
    "* Pyro eforces that *guide* and *model* have the same **call signature**\n",
    "* The names of sample statements are used to align random variables in the model and the guide"
   ]
  },
  {
   "cell_type": "code",
   "execution_count": 34,
   "metadata": {},
   "outputs": [],
   "source": [
    "def scale_prior_guide(guess):\n",
    "    return pyro.sample(\"weight\", dist.Normal(guess, 1.))\n",
    "\n",
    "posterior = pyro.infer.Importance(conditioned_scale,\n",
    "                                  guide=scale_prior_guide,\n",
    "                                  num_samples=10)\n",
    "\n",
    "marginal = pyro.infer.EmpiricalMarginal(posterior.run(guess), sites=\"weight\")"
   ]
  },
  {
   "cell_type": "code",
   "execution_count": 35,
   "metadata": {
    "scrolled": true
   },
   "outputs": [
    {
     "data": {
      "image/png": "[encoded data removed]",
      "text/plain": [
       "<Figure size 432x288 with 1 Axes>"
      ]
     },
     "metadata": {},
     "output_type": "display_data"
    }
   ],
   "source": [
    "def scale_posterior_guide(measurement, guess):\n",
    "    # note that torch.size(measurement, 0) is the total number of measurements\n",
    "    # that we're conditioning on\n",
    "    a = (guess + torch.sum(measurement)) / (measurement.size(0) + 1.0)\n",
    "    b = 1. / (measurement.size(0) + 1.0)\n",
    "    return pyro.sample(\"weight\", dist.Normal(a, b))\n",
    "\n",
    "posterior = pyro.infer.Importance(deferred_conditioned_scale,\n",
    "                                  guide=scale_posterior_guide,\n",
    "                                  num_samples=20)\n",
    "\n",
    "marginal = pyro.infer.EmpiricalMarginal(posterior.run(torch.tensor([measurement]), guess), sites=\"weight\")\n",
    "plt.hist([marginal().item() for _ in range(100)], range=(5.0, 12.0))\n",
    "plt.title(\"P(weight | measurement, guess)\")\n",
    "plt.xlabel(\"weight\")\n",
    "plt.ylabel(\"#\");"
   ]
  },
  {
   "cell_type": "markdown",
   "metadata": {},
   "source": [
    "## Variational Inference "
   ]
  },
  {
   "cell_type": "markdown",
   "metadata": {},
   "source": [
    "* in general it is intractable to specify a guide that is a good approximation to the posterior distribution of an arbitrary conditioned stochastic function\n",
    "* `pyro.param` can be used to specify a family of guides indexed by named parameters and search for the member of that family that is the best approximation\n",
    "* We can use `pyro.param` to parametrize `a` and `b` instead of specifying them by hand"
   ]
  },
  {
   "cell_type": "code",
   "execution_count": 36,
   "metadata": {},
   "outputs": [],
   "source": [
    "def scale_parametrized_guide(guess):\n",
    "    a = pyro.param(\"a\", torch.tensor(torch.randn(1) + guess))\n",
    "    b = pyro.param(\"b\", torch.randn(1))\n",
    "    return pyro.sample(\"weight\", dist.Normal(a, torch.abs(b)))"
   ]
  },
  {
   "cell_type": "code",
   "execution_count": 40,
   "metadata": {},
   "outputs": [
    {
     "data": {
      "image/png": "[encoded data removed]",
      "text/plain": [
       "<Figure size 432x288 with 1 Axes>"
      ]
     },
     "metadata": {},
     "output_type": "display_data"
    }
   ],
   "source": [
    "pyro.clear_param_store()\n",
    "svi = pyro.infer.SVI(model=conditioned_scale,\n",
    "                     guide=scale_parametrized_guide,\n",
    "                     optim=pyro.optim.SGD({\"lr\": 0.001}),\n",
    "                     loss=pyro.infer.Trace_ELBO())\n",
    "\n",
    "losses = []\n",
    "for t in range(1000):\n",
    "    losses.append(svi.step(guess))\n",
    "# The method step() takes a single gradient step and returns an estimate of the loss \n",
    "    \n",
    "plt.plot(losses)\n",
    "plt.title(\"ELBO\")\n",
    "plt.xlabel(\"step\")\n",
    "plt.ylabel(\"loss\");"
   ]
  },
  {
   "cell_type": "code",
   "execution_count": 42,
   "metadata": {},
   "outputs": [
    {
     "data": {
      "image/png": "[encoded data removed]",
      "text/plain": [
       "<Figure size 432x288 with 1 Axes>"
      ]
     },
     "metadata": {},
     "output_type": "display_data"
    }
   ],
   "source": [
    "def per_param_callable(module_name, param_name):\n",
    "    # may add control flow depending on param_name\n",
    "    return {\"lr\": 0.001}\n",
    "    \n",
    "pyro.clear_param_store()\n",
    "svi = pyro.infer.SVI(model=conditioned_scale,\n",
    "                     guide=scale_parametrized_guide,\n",
    "                     optim=pyro.optim.SGD(per_param_callable),\n",
    "                     loss=pyro.infer.Trace_ELBO())\n",
    "\n",
    "losses = []\n",
    "for t in range(1000):\n",
    "    losses.append(svi.step(guess))\n",
    "# The method step() takes a single gradient step and returns an estimate of the loss \n",
    "    \n",
    "plt.plot(losses)\n",
    "plt.title(\"ELBO\")\n",
    "plt.xlabel(\"step\")\n",
    "plt.ylabel(\"loss\");"
   ]
  },
  {
   "cell_type": "code",
   "execution_count": 38,
   "metadata": {},
   "outputs": [
    {
     "data": {
      "image/png": "[encoded data removed]",
      "text/plain": [
       "<Figure size 432x288 with 1 Axes>"
      ]
     },
     "metadata": {},
     "output_type": "display_data"
    }
   ],
   "source": [
    "posterior = pyro.infer.Importance(conditioned_scale, scale_parametrized_guide, num_samples=10)\n",
    "marginal = pyro.infer.EmpiricalMarginal(posterior.run(guess), sites=\"weight\")\n",
    "\n",
    "plt.hist([marginal().item() for _ in range(100)], range=(5.0, 12.0))\n",
    "plt.title(\"P(weight | measurement, guess)\")\n",
    "plt.xlabel(\"weight\")\n",
    "plt.ylabel(\"#\");"
   ]
  },
  {
   "cell_type": "markdown",
   "metadata": {},
   "source": [
    "* We can also sample from the guide directly as an approximate posterior:"
   ]
  },
  {
   "cell_type": "code",
   "execution_count": 39,
   "metadata": {},
   "outputs": [
    {
     "data": {
      "image/png": "[encoded data removed]",
      "text/plain": [
       "<Figure size 432x288 with 1 Axes>"
      ]
     },
     "metadata": {},
     "output_type": "display_data"
    }
   ],
   "source": [
    "plt.hist([scale_parametrized_guide(guess).item() for _ in range(100)], range=(5.0, 12.0))\n",
    "plt.title(\"P(weight | measurement, guess)\")\n",
    "plt.xlabel(\"weight\")\n",
    "plt.ylabel(\"#\");"
   ]
  },
  {
   "cell_type": "markdown",
   "metadata": {},
   "source": [
    "# Variational Auto Encoder "
   ]
  },
  {
   "cell_type": "code",
   "execution_count": 32,
   "metadata": {},
   "outputs": [],
   "source": [
    "import os\n",
    "\n",
    "import numpy as np\n",
    "import torch\n",
    "import torchvision.datasets as dset\n",
    "import torch.nn as nn\n",
    "import torchvision.transforms as transforms\n",
    "\n",
    "import pyro\n",
    "import pyro.distributions as dist\n",
    "from pyro.infer import SVI, Trace_ELBO\n",
    "from pyro.optim import Adam"
   ]
  },
  {
   "cell_type": "code",
   "execution_count": 33,
   "metadata": {},
   "outputs": [],
   "source": [
    "pyro.enable_validation(True)\n",
    "pyro.distributions.enable_validation(False)\n",
    "pyro.set_rng_seed(0)\n",
    "# Enable smoke test - run the notebook cells on CI.\n",
    "smoke_test = 'CI' in os.environ"
   ]
  },
  {
   "cell_type": "code",
   "execution_count": 34,
   "metadata": {},
   "outputs": [],
   "source": [
    "def setup_data_loaders(batch_size=128, use_cuda=False):\n",
    "    root = './data'\n",
    "    download = True\n",
    "    trans = transforms.ToTensor()\n",
    "    train_set = dset.MNIST(root=root, train=True, transform=trans,\n",
    "                           download=download)\n",
    "    test_set = dset.MNIST(root=root, train=False, transform=trans)\n",
    "\n",
    "    kwargs = {'num_workers': 1, 'pin_memory': use_cuda}\n",
    "    train_loader = torch.utils.data.DataLoader(dataset=train_set,\n",
    "        batch_size=batch_size, shuffle=True, **kwargs)\n",
    "    test_loader = torch.utils.data.DataLoader(dataset=test_set,\n",
    "        batch_size=batch_size, shuffle=False, **kwargs)\n",
    "    return train_loader, test_loader"
   ]
  },
  {
   "cell_type": "code",
   "execution_count": 35,
   "metadata": {},
   "outputs": [],
   "source": [
    "class Decoder(nn.Module):\n",
    "    def __init__(self, z_dim, hidden_dim):\n",
    "        super(Decoder, self).__init__()\n",
    "        # setup the two linear transformations used\n",
    "        self.fc1 = nn.Linear(z_dim, hidden_dim)\n",
    "        self.fc21 = nn.Linear(hidden_dim, 784)\n",
    "        # setup the non-linearities\n",
    "        self.softplus = nn.Softplus()\n",
    "        self.sigmoid = nn.Sigmoid()\n",
    "\n",
    "    def forward(self, z):\n",
    "        # define the forward computation on the latent z\n",
    "        # first compute the hidden units\n",
    "        hidden = self.softplus(self.fc1(z))\n",
    "        # return the parameter for the output Bernoulli\n",
    "        # each is of size batch_size x 784\n",
    "        loc_img = self.sigmoid(self.fc21(hidden))\n",
    "        return loc_img"
   ]
  },
  {
   "cell_type": "code",
   "execution_count": 36,
   "metadata": {},
   "outputs": [],
   "source": [
    "class Encoder(nn.Module):\n",
    "    def __init__(self, z_dim, hidden_dim):\n",
    "        super(Encoder, self).__init__()\n",
    "        # setup the three linear transformations used\n",
    "        self.fc1 = nn.Linear(784, hidden_dim)\n",
    "        self.fc21 = nn.Linear(hidden_dim, z_dim)\n",
    "        self.fc22 = nn.Linear(hidden_dim, z_dim)\n",
    "        # setup the non-linearities\n",
    "        self.softplus = nn.Softplus()\n",
    "\n",
    "    def forward(self, x):\n",
    "        # define the forward computation on the image x\n",
    "        # first shape the mini-batch to have pixels in the rightmost dimension\n",
    "        x = x.reshape(-1, 784)\n",
    "        # then compute the hidden units\n",
    "        hidden = self.softplus(self.fc1(x))\n",
    "        # then return a mean vector and a (positive) square root covariance\n",
    "        # each of size batch_size x z_dim\n",
    "        z_loc = self.fc21(hidden)\n",
    "        z_scale = torch.exp(self.fc22(hidden))\n",
    "        return z_loc, z_scale"
   ]
  },
  {
   "cell_type": "code",
   "execution_count": 37,
   "metadata": {},
   "outputs": [],
   "source": [
    "class VAE(nn.Module):\n",
    "    # by default our latent space is 50-dimensional\n",
    "    # and we use 400 hidden units\n",
    "    def __init__(self, z_dim=50, hidden_dim=400, use_cuda=False):\n",
    "        super(VAE, self).__init__()\n",
    "        # create the encoder and decoder networks\n",
    "        self.encoder = Encoder(z_dim, hidden_dim)\n",
    "        self.decoder = Decoder(z_dim, hidden_dim)\n",
    "\n",
    "        if use_cuda:\n",
    "            # calling cuda() here will put all the parameters of\n",
    "            # the encoder and decoder networks into gpu memory\n",
    "            self.cuda()\n",
    "        self.use_cuda = use_cuda\n",
    "        self.z_dim = z_dim\n",
    "\n",
    "    # define the model p(x|z)p(z)\n",
    "    def model(self, x):\n",
    "        # register PyTorch module `decoder` with Pyro\n",
    "        pyro.module(\"decoder\", self.decoder)\n",
    "        with pyro.iarange(\"data\", x.shape[0]):\n",
    "            # setup hyperparameters for prior p(z)\n",
    "            z_loc = x.new_zeros(torch.Size((x.shape[0], self.z_dim)))\n",
    "            z_scale = x.new_ones(torch.Size((x.shape[0], self.z_dim)))\n",
    "            # sample from prior (value will be sampled by guide when computing the ELBO)\n",
    "            z = pyro.sample(\"latent\", dist.Normal(z_loc, z_scale).independent(1))\n",
    "            # decode the latent code z\n",
    "            loc_img = self.decoder.forward(z)\n",
    "            # score against actual images\n",
    "            pyro.sample(\"obs\", dist.Bernoulli(loc_img).independent(1), obs=x.reshape(-1, 784))\n",
    "\n",
    "    # define the guide (i.e. variational distribution) q(z|x)\n",
    "    def guide(self, x):\n",
    "        # register PyTorch module `encoder` with Pyro\n",
    "        pyro.module(\"encoder\", self.encoder)\n",
    "        with pyro.iarange(\"data\", x.shape[0]):\n",
    "            # use the encoder to get the parameters used to define q(z|x)\n",
    "            z_loc, z_scale = self.encoder.forward(x)\n",
    "            # sample the latent code z\n",
    "            pyro.sample(\"latent\", dist.Normal(z_loc, z_scale).independent(1))\n",
    "\n",
    "    # define a helper function for reconstructing images\n",
    "    def reconstruct_img(self, x):\n",
    "        # encode image x\n",
    "        z_loc, z_scale = self.encoder(x)\n",
    "        # sample in latent space\n",
    "        z = dist.Normal(z_loc, z_scale).sample()\n",
    "        # decode the image (note we don't sample in image space)\n",
    "        loc_img = self.decoder(z)\n",
    "        return loc_img"
   ]
  },
  {
   "cell_type": "code",
   "execution_count": 38,
   "metadata": {},
   "outputs": [],
   "source": [
    "vae = VAE()"
   ]
  },
  {
   "cell_type": "code",
   "execution_count": 39,
   "metadata": {},
   "outputs": [],
   "source": [
    "optimizer = Adam({\"lr\": 1.0e-3})"
   ]
  },
  {
   "cell_type": "code",
   "execution_count": 40,
   "metadata": {},
   "outputs": [],
   "source": [
    "svi = SVI(vae.model, vae.guide, optimizer, loss=Trace_ELBO())"
   ]
  },
  {
   "cell_type": "code",
   "execution_count": 41,
   "metadata": {},
   "outputs": [],
   "source": [
    "def train(svi, train_loader, use_cuda=False):\n",
    "    # initialize loss accumulator\n",
    "    epoch_loss = 0.\n",
    "    # do a training epoch over each mini-batch x returned\n",
    "    # by the data loader\n",
    "    for x, _ in train_loader:\n",
    "        # if on GPU put mini-batch into CUDA memory\n",
    "        if use_cuda:\n",
    "            x = x.cuda()\n",
    "        # do ELBO gradient and accumulate loss\n",
    "        epoch_loss += svi.step(x)\n",
    "\n",
    "    # return epoch loss\n",
    "    normalizer_train = len(train_loader.dataset)\n",
    "    total_epoch_loss_train = epoch_loss / normalizer_train\n",
    "    return total_epoch_loss_train"
   ]
  },
  {
   "cell_type": "code",
   "execution_count": 42,
   "metadata": {},
   "outputs": [],
   "source": [
    "def evaluate(svi, test_loader, use_cuda=False):\n",
    "    # initialize loss accumulator\n",
    "    test_loss = 0.\n",
    "    # compute the loss over the entire test set\n",
    "    for x, _ in test_loader:\n",
    "        # if on GPU put mini-batch into CUDA memory\n",
    "        if use_cuda:\n",
    "            x = x.cuda()\n",
    "        # compute ELBO estimate and accumulate loss\n",
    "        test_loss += svi.evaluate_loss(x)\n",
    "    normalizer_test = len(test_loader.dataset)\n",
    "    total_epoch_loss_test = test_loss / normalizer_test\n",
    "    return total_epoch_loss_test"
   ]
  },
  {
   "cell_type": "code",
   "execution_count": 43,
   "metadata": {},
   "outputs": [],
   "source": [
    "# Run options\n",
    "LEARNING_RATE = 1.0e-3\n",
    "USE_CUDA = False\n",
    "\n",
    "# Run only for a single iteration for testing\n",
    "NUM_EPOCHS = 1 if smoke_test else 100\n",
    "TEST_FREQUENCY = 5"
   ]
  },
  {
   "cell_type": "code",
   "execution_count": 44,
   "metadata": {},
   "outputs": [
    {
     "name": "stdout",
     "output_type": "stream",
     "text": [
      "[epoch 000]  average training loss: 191.0216\n",
      "[epoch 000] average test loss: 156.0872\n",
      "[epoch 001]  average training loss: 146.8141\n",
      "[epoch 002]  average training loss: 133.2540\n",
      "[epoch 003]  average training loss: 124.6775\n",
      "[epoch 004]  average training loss: 119.5152\n",
      "[epoch 005]  average training loss: 116.1240\n",
      "[epoch 005] average test loss: 113.7908\n",
      "[epoch 006]  average training loss: 113.7285\n",
      "[epoch 007]  average training loss: 112.0445\n",
      "[epoch 008]  average training loss: 110.7292\n",
      "[epoch 009]  average training loss: 109.7455\n",
      "[epoch 010]  average training loss: 108.9070\n",
      "[epoch 010] average test loss: 107.7720\n",
      "[epoch 011]  average training loss: 108.2513\n",
      "[epoch 012]  average training loss: 107.6953\n",
      "[epoch 013]  average training loss: 107.2849\n",
      "[epoch 014]  average training loss: 106.8870\n",
      "[epoch 015]  average training loss: 106.4983\n",
      "[epoch 015] average test loss: 105.9786\n",
      "[epoch 016]  average training loss: 106.1872\n",
      "[epoch 017]  average training loss: 105.9363\n",
      "[epoch 018]  average training loss: 105.7087\n",
      "[epoch 019]  average training loss: 105.4600\n",
      "[epoch 020]  average training loss: 105.2648\n",
      "[epoch 020] average test loss: 104.7754\n",
      "[epoch 021]  average training loss: 105.0442\n",
      "[epoch 022]  average training loss: 104.9031\n",
      "[epoch 023]  average training loss: 104.7304\n",
      "[epoch 024]  average training loss: 104.6027\n",
      "[epoch 025]  average training loss: 104.4586\n",
      "[epoch 025] average test loss: 104.2971\n",
      "[epoch 026]  average training loss: 104.3756\n",
      "[epoch 027]  average training loss: 104.2278\n",
      "[epoch 028]  average training loss: 104.1049\n",
      "[epoch 029]  average training loss: 104.0565\n",
      "[epoch 030]  average training loss: 103.8851\n",
      "[epoch 030] average test loss: 103.5859\n",
      "[epoch 031]  average training loss: 103.7705\n",
      "[epoch 032]  average training loss: 103.7331\n",
      "[epoch 033]  average training loss: 103.6272\n",
      "[epoch 034]  average training loss: 103.5645\n",
      "[epoch 035]  average training loss: 103.4693\n",
      "[epoch 035] average test loss: 103.1316\n",
      "[epoch 036]  average training loss: 103.3898\n",
      "[epoch 037]  average training loss: 103.3199\n",
      "[epoch 038]  average training loss: 103.2840\n",
      "[epoch 039]  average training loss: 103.1866\n",
      "[epoch 040]  average training loss: 103.1108\n",
      "[epoch 040] average test loss: 103.0911\n",
      "[epoch 041]  average training loss: 103.0730\n",
      "[epoch 042]  average training loss: 103.0086\n",
      "[epoch 043]  average training loss: 102.9338\n",
      "[epoch 044]  average training loss: 102.8887\n",
      "[epoch 045]  average training loss: 102.8416\n",
      "[epoch 045] average test loss: 102.8022\n",
      "[epoch 046]  average training loss: 102.7833\n",
      "[epoch 047]  average training loss: 102.7389\n",
      "[epoch 048]  average training loss: 102.6800\n",
      "[epoch 049]  average training loss: 102.6738\n",
      "[epoch 050]  average training loss: 102.5855\n",
      "[epoch 050] average test loss: 102.5791\n",
      "[epoch 051]  average training loss: 102.5615\n",
      "[epoch 052]  average training loss: 102.4934\n",
      "[epoch 053]  average training loss: 102.4610\n",
      "[epoch 054]  average training loss: 102.4274\n",
      "[epoch 055]  average training loss: 102.3713\n",
      "[epoch 055] average test loss: 102.3923\n",
      "[epoch 056]  average training loss: 102.3328\n",
      "[epoch 057]  average training loss: 102.2912\n",
      "[epoch 058]  average training loss: 102.1891\n",
      "[epoch 059]  average training loss: 102.2194\n",
      "[epoch 060]  average training loss: 102.1762\n",
      "[epoch 060] average test loss: 102.1223\n",
      "[epoch 061]  average training loss: 102.1585\n",
      "[epoch 062]  average training loss: 102.0887\n",
      "[epoch 063]  average training loss: 102.0703\n",
      "[epoch 064]  average training loss: 102.0091\n",
      "[epoch 065]  average training loss: 101.9924\n",
      "[epoch 065] average test loss: 102.0361\n",
      "[epoch 066]  average training loss: 101.9461\n",
      "[epoch 067]  average training loss: 101.8985\n",
      "[epoch 068]  average training loss: 101.8809\n",
      "[epoch 069]  average training loss: 101.8588\n",
      "[epoch 070]  average training loss: 101.8102\n",
      "[epoch 070] average test loss: 102.1124\n",
      "[epoch 071]  average training loss: 101.7739\n",
      "[epoch 072]  average training loss: 101.7548\n",
      "[epoch 073]  average training loss: 101.7252\n",
      "[epoch 074]  average training loss: 101.7424\n",
      "[epoch 075]  average training loss: 101.6693\n",
      "[epoch 075] average test loss: 101.8703\n",
      "[epoch 076]  average training loss: 101.6238\n",
      "[epoch 077]  average training loss: 101.5941\n",
      "[epoch 078]  average training loss: 101.5562\n",
      "[epoch 079]  average training loss: 101.5380\n",
      "[epoch 080]  average training loss: 101.4967\n",
      "[epoch 080] average test loss: 101.6312\n",
      "[epoch 081]  average training loss: 101.4572\n",
      "[epoch 082]  average training loss: 101.4549\n",
      "[epoch 083]  average training loss: 101.3729\n",
      "[epoch 084]  average training loss: 101.3880\n",
      "[epoch 085]  average training loss: 101.3953\n",
      "[epoch 085] average test loss: 101.5520\n",
      "[epoch 086]  average training loss: 101.3212\n",
      "[epoch 087]  average training loss: 101.3289\n",
      "[epoch 088]  average training loss: 101.3108\n",
      "[epoch 089]  average training loss: 101.2534\n",
      "[epoch 090]  average training loss: 101.2607\n",
      "[epoch 090] average test loss: 101.2997\n",
      "[epoch 091]  average training loss: 101.2435\n",
      "[epoch 092]  average training loss: 101.1965\n",
      "[epoch 093]  average training loss: 101.1350\n",
      "[epoch 094]  average training loss: 101.1215\n",
      "[epoch 095]  average training loss: 101.0969\n",
      "[epoch 095] average test loss: 101.2543\n",
      "[epoch 096]  average training loss: 101.1045\n",
      "[epoch 097]  average training loss: 101.0621\n",
      "[epoch 098]  average training loss: 101.0410\n",
      "[epoch 099]  average training loss: 101.0019\n"
     ]
    }
   ],
   "source": [
    "train_loader, test_loader = setup_data_loaders(batch_size=256, use_cuda=USE_CUDA)\n",
    "\n",
    "# clear param store\n",
    "pyro.clear_param_store()\n",
    "\n",
    "# setup the VAE\n",
    "vae = VAE(use_cuda=USE_CUDA)\n",
    "\n",
    "# setup the optimizer\n",
    "adam_args = {\"lr\": LEARNING_RATE}\n",
    "optimizer = Adam(adam_args)\n",
    "\n",
    "# setup the inference algorithm\n",
    "svi = SVI(vae.model, vae.guide, optimizer, loss=Trace_ELBO())\n",
    "\n",
    "train_elbo = []\n",
    "test_elbo = []\n",
    "# training loop\n",
    "for epoch in range(NUM_EPOCHS):\n",
    "    total_epoch_loss_train = train(svi, train_loader, use_cuda=USE_CUDA)\n",
    "    train_elbo.append(-total_epoch_loss_train)\n",
    "    print(\"[epoch %03d]  average training loss: %.4f\" % (epoch, total_epoch_loss_train))\n",
    "\n",
    "    if epoch % TEST_FREQUENCY == 0:\n",
    "        # report test diagnostics\n",
    "        total_epoch_loss_test = evaluate(svi, test_loader, use_cuda=USE_CUDA)\n",
    "        test_elbo.append(-total_epoch_loss_test)\n",
    "        print(\"[epoch %03d] average test loss: %.4f\" % (epoch, total_epoch_loss_test))"
   ]
  },
  {
   "cell_type": "code",
   "execution_count": null,
   "metadata": {},
   "outputs": [],
   "source": []
  }
 ],
 "metadata": {
  "kernelspec": {
   "display_name": "Python 3",
   "language": "python",
   "name": "python3"
  },
  "language_info": {
   "codemirror_mode": {
    "name": "ipython",
    "version": 3
   },
   "file_extension": ".py",
   "mimetype": "text/x-python",
   "name": "python",
   "nbconvert_exporter": "python",
   "pygments_lexer": "ipython3",
   "version": "3.5.2"
  }
 },
 "nbformat": 4,
 "nbformat_minor": 2
}

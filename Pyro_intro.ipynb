{
 "cells": [
  {
   "cell_type": "code",
   "execution_count": 27,
   "metadata": {},
   "outputs": [],
   "source": [
    "import numpy as np\n",
    "import matplotlib.pyplot as plt\n",
    "\n",
    "import torch\n",
    "\n",
    "import pyro\n",
    "import pyro.infer\n",
    "import pyro.optim\n",
    "import pyro.distributions as dist\n",
    "\n",
    "torch.manual_seed(101);"
   ]
  },
  {
   "cell_type": "markdown",
   "metadata": {},
   "source": [
    "## Models in Pyro "
   ]
  },
  {
   "cell_type": "markdown",
   "metadata": {},
   "source": [
    "* The basic unit of Pyro programs is the *stochastic function*. A *stochastic function* consits of two parts:\n",
    "    * A deterministic python code\n",
    "    * primitive stochastic function\n",
    "* A stochastic function can be any python object with `__call__()` like a function, method or Pytorch `nn.Module()`. \n",
    "* Stochastic fucntions can be seen as models as they used to represent simplified or abstract descriptions of a process by which data are generated. \n"
   ]
  },
  {
   "cell_type": "markdown",
   "metadata": {},
   "source": [
    "## Primitive Stochastic Functions"
   ]
  },
  {
   "cell_type": "markdown",
   "metadata": {},
   "source": [
    "* Use **Pytorch's** disctribution library.\n",
    "* Can create custom distributions using **transforms**"
   ]
  },
  {
   "cell_type": "markdown",
   "metadata": {},
   "source": [
    "### Drawing sample from unit Normal "
   ]
  },
  {
   "cell_type": "code",
   "execution_count": 28,
   "metadata": {},
   "outputs": [],
   "source": [
    "loc = 0.   # mean zero\n",
    "scale = 1. # unit variance"
   ]
  },
  {
   "cell_type": "code",
   "execution_count": 29,
   "metadata": {},
   "outputs": [],
   "source": [
    "normal = dist.Normal(loc, scale) # create a normal distribution object"
   ]
  },
  {
   "cell_type": "code",
   "execution_count": 30,
   "metadata": {},
   "outputs": [
    {
     "name": "stdout",
     "output_type": "stream",
     "text": [
      "sample tensor(-1.3905)\n",
      "log prob tensor(-1.8857)\n"
     ]
    }
   ],
   "source": [
    "x = normal.sample() # draw a sample from N(0,1)\n",
    "print(\"sample\", x)\n",
    "print(\"log prob\", normal.log_prob(x)) # score the sample from N(0,1)"
   ]
  },
  {
   "cell_type": "markdown",
   "metadata": {},
   "source": [
    "* Parameters passed to the `dist.Normal` are `torch.Tensors` so to be able to make use of **Pytorchs** autograd capabiltites duruing inference."
   ]
  },
  {
   "cell_type": "markdown",
   "metadata": {},
   "source": [
    "### Sampling "
   ]
  },
  {
   "cell_type": "code",
   "execution_count": 31,
   "metadata": {},
   "outputs": [
    {
     "name": "stdout",
     "output_type": "stream",
     "text": [
      "tensor(-0.8152)\n"
     ]
    }
   ],
   "source": [
    "x = pyro.sample(\"my_sample\", dist.Normal(loc, scale))\n",
    "print(x)"
   ]
  },
  {
   "cell_type": "markdown",
   "metadata": {},
   "source": [
    "* Sample is named\n",
    "* Pyro’s backend uses these names to uniquely identify sample statements"
   ]
  },
  {
   "cell_type": "markdown",
   "metadata": {},
   "source": [
    "## Simple Model "
   ]
  },
  {
   "cell_type": "markdown",
   "metadata": {},
   "source": [
    "Let’s suppose we have a bunch of data with daily mean temperatures and cloud cover. We want to reason about how temperature interacts with whether it was sunny or cloudy. A simple stochastic function that does that is given by:"
   ]
  },
  {
   "cell_type": "code",
   "execution_count": 32,
   "metadata": {},
   "outputs": [
    {
     "name": "stdout",
     "output_type": "stream",
     "text": [
      "('sunny', 72.30651092529297)\n",
      "('sunny', 91.11004638671875)\n",
      "('sunny', 92.53456115722656)\n"
     ]
    }
   ],
   "source": [
    "def weather():\n",
    "    cloudy = pyro.sample('cloudy', dist.Bernoulli(0.3))\n",
    "    cloudy = 'cloudy' if cloudy.item() == 1.0 else 'sunny'\n",
    "    mean_temp = {'cloudy': 55.0, 'sunny': 75.0}[cloudy]\n",
    "    scale_temp = {'cloudy': 10.0, 'sunny': 15.0}[cloudy]\n",
    "    temp = pyro.sample('temp', dist.Normal(mean_temp, scale_temp))\n",
    "    return cloudy, temp.item()\n",
    "\n",
    "for _ in range(3):\n",
    "    print(weather())"
   ]
  },
  {
   "cell_type": "code",
   "execution_count": 33,
   "metadata": {},
   "outputs": [],
   "source": [
    "def ice_cream_sales():\n",
    "    cloudy, temp = weather()\n",
    "    expected_sales = 200. if cloudy == 'sunny' and temp > 80.0 else 50.\n",
    "    ice_cream = pyro.sample('ice_cream', dist.Normal(expected_sales, 10.0))\n",
    "    return ice_cream"
   ]
  },
  {
   "cell_type": "code",
   "execution_count": 34,
   "metadata": {},
   "outputs": [
    {
     "data": {
      "text/plain": [
       "tensor(205.6327)"
      ]
     },
     "execution_count": 34,
     "metadata": {},
     "output_type": "execute_result"
    }
   ],
   "source": [
    "ice_cream_sales()"
   ]
  },
  {
   "cell_type": "markdown",
   "metadata": {},
   "source": [
    "## Stochastic Recursion, Higher-order Stochastic Functions, and Random Control Flow "
   ]
  },
  {
   "cell_type": "markdown",
   "metadata": {},
   "source": [
    "* Since pyro is embedded in python, stochastic functions can be arbitrarily complex and randomness can freely affect the control flow.\n",
    "* Example, a recursive function whose termination is non-deterministic\n",
    " * Shown below is a gemoetric series that counts number of failure until first success."
   ]
  },
  {
   "cell_type": "code",
   "execution_count": 42,
   "metadata": {},
   "outputs": [
    {
     "name": "stdout",
     "output_type": "stream",
     "text": [
      "186\n"
     ]
    }
   ],
   "source": [
    "def geometric(p, t=None):\n",
    "    if t is None:\n",
    "        t = 0\n",
    "        \n",
    "    ######### Make sure unique sample names are passed\n",
    "    x = pyro.sample(\"x_{}\".format(t), dist.Bernoulli(p)) \n",
    "    \n",
    "    if x.item() == 1:\n",
    "        return 0\n",
    "    else:\n",
    "        return 1 + geometric(p, t + 1)\n",
    "\n",
    "print(geometric(0.001))"
   ]
  },
  {
   "cell_type": "markdown",
   "metadata": {},
   "source": [
    "* Stochastic functions that accept as input or produce as output other stochastic functions:"
   ]
  },
  {
   "cell_type": "code",
   "execution_count": 44,
   "metadata": {},
   "outputs": [
    {
     "name": "stdout",
     "output_type": "stream",
     "text": [
      "tensor(1.5278)\n"
     ]
    }
   ],
   "source": [
    "def normal_product(loc, scale):\n",
    "    z1 = pyro.sample(\"z1\", dist.Normal(loc, scale))\n",
    "    z2 = pyro.sample(\"z2\", dist.Normal(loc, scale))\n",
    "    y = z1 * z2\n",
    "    return y\n",
    "\n",
    "def make_normal_normal():\n",
    "    mu_latent = pyro.sample(\"mu_latent\", dist.Normal(0, 1))\n",
    "    fn = lambda scale: normal_product(mu_latent, scale)\n",
    "    return fn\n",
    "\n",
    "print(make_normal_normal()(3.))"
   ]
  },
  {
   "cell_type": "markdown",
   "metadata": {},
   "source": [
    "# Inference "
   ]
  },
  {
   "cell_type": "markdown",
   "metadata": {},
   "source": [
    "* You have an object of which you want to measure the weight\n",
    "* You have a weighing machine with is unreliable"
   ]
  },
  {
   "cell_type": "code",
   "execution_count": 11,
   "metadata": {},
   "outputs": [],
   "source": [
    "def scale(guess):\n",
    "    #var = pyro.sample(\"var\", dist.Normal(guess, 1.0))\n",
    "    var = 1\n",
    "    # The prior over weight encodes our uncertainty about our guess\n",
    "    weight = pyro.sample(\"weight\", dist.Normal(guess, var))\n",
    "    # This encodes our belief about the noisiness of the scale:\n",
    "    # the measurement fluctuates around the true weight\n",
    "    return pyro.sample(\"measurement\", dist.Normal(weight, 0.75))"
   ]
  },
  {
   "cell_type": "markdown",
   "metadata": {},
   "source": [
    "* Suppose we want to get an estimate of the object weight using this model\n",
    "* This involves marginializing over **guess** and then sampling\n",
    "* Marginialization in Pyro is done using `pyro.infer.EmpericalMarginal`\n",
    "    * First collect a number of weighted exection traces of the model\n",
    "    * Collapse traces into histogram of possible return values"
   ]
  },
  {
   "cell_type": "code",
   "execution_count": 12,
   "metadata": {},
   "outputs": [],
   "source": [
    "posterior = pyro.infer.Importance(scale, num_samples=100)"
   ]
  },
  {
   "cell_type": "code",
   "execution_count": 13,
   "metadata": {},
   "outputs": [
    {
     "name": "stdout",
     "output_type": "stream",
     "text": [
      "tensor(10.3621)\n"
     ]
    }
   ],
   "source": [
    "guess = 8.5\n",
    "\n",
    "marginal = pyro.infer.EmpiricalMarginal(posterior.run(guess))\n",
    "print(marginal())"
   ]
  },
  {
   "cell_type": "code",
   "execution_count": 14,
   "metadata": {},
   "outputs": [
    {
     "data": {
      "image/png": "[encoded data removed]",
      "text/plain": [
       "<Figure size 432x288 with 1 Axes>"
      ]
     },
     "metadata": {},
     "output_type": "display_data"
    }
   ],
   "source": [
    "plt.hist([marginal().item() for _ in range(100)], range=(5.0, 12.0))\n",
    "plt.title(\"P(measurement | guess)\")\n",
    "plt.xlabel(\"weight\")\n",
    "plt.ylabel(\"#\");"
   ]
  },
  {
   "cell_type": "markdown",
   "metadata": {},
   "source": [
    "# Conditioning on Data (Observe)"
   ]
  },
  {
   "cell_type": "markdown",
   "metadata": {},
   "source": [
    "* Given observed data we want to infer the latent factors that could have generated it\n",
    "* `pyro.condition` allows to constrain the value of sample statements"
   ]
  },
  {
   "cell_type": "code",
   "execution_count": 15,
   "metadata": {},
   "outputs": [],
   "source": [
    "# Takes as input\n",
    "# 1. Model\n",
    "# 2. Dictionary containing the observed values\n",
    "conditioned_scale = pyro.condition(\n",
    "    scale, data={\"measurement\": 9.5})\n",
    "# returns a new model \n",
    "# Has same input and output signatures but always uses the given values at observed sample statements"
   ]
  },
  {
   "cell_type": "code",
   "execution_count": 16,
   "metadata": {},
   "outputs": [],
   "source": [
    "def deferred_conditioned_scale(measurement, *args, **kwargs):\n",
    "    return pyro.condition(scale, data={\"measurement\": measurement})(*args, **kwargs)"
   ]
  },
  {
   "cell_type": "markdown",
   "metadata": {},
   "source": [
    "### Passing observed value directly to sample statement"
   ]
  },
  {
   "cell_type": "code",
   "execution_count": 17,
   "metadata": {},
   "outputs": [],
   "source": [
    "# `obs` keyword is reserved for this purpose\n",
    "def scale_obs(guess):\n",
    "    weight = pyro.sample(\"weight\", dist.Normal(guess, 1.))\n",
    "     # here we attach an observation measurement == 9.5\n",
    "    return pyro.sample(\"measurement\", dist.Normal(weight, 1.),\n",
    "                       obs=9.5)"
   ]
  },
  {
   "cell_type": "markdown",
   "metadata": {},
   "source": [
    "* Hardcoding is not recomended due to non-compositional nature\n",
    "* "
   ]
  },
  {
   "cell_type": "code",
   "execution_count": 18,
   "metadata": {},
   "outputs": [],
   "source": [
    "def scale2(guess):\n",
    "    weight = pyro.sample(\"weight\", dist.Normal(guess, 1.))\n",
    "    tolerance = torch.abs(pyro.sample(\"tolerance\", dist.Normal(0., 1.)))\n",
    "    return pyro.sample(\"measurement\", dist.Normal(weight, tolerance))\n",
    "\n",
    "# conditioning composes:\n",
    "# the following are all equivalent and do not interfere with each other\n",
    "conditioned_scale2_1 = pyro.condition(\n",
    "    pyro.condition(scale2, data={\"weight\": 9.2}),\n",
    "    data={\"measurement\": 9.5})\n",
    "\n",
    "conditioned_scale2_2 = pyro.condition(\n",
    "    pyro.condition(scale2, data={\"measurement\": 9.5}),\n",
    "    data={\"weight\": 9.2})\n",
    "\n",
    "conditioned_scale2_3 = pyro.condition(\n",
    "    scale2, data={\"weight\": 9.2, \"measurement\": 9.5})"
   ]
  },
  {
   "cell_type": "code",
   "execution_count": 19,
   "metadata": {},
   "outputs": [],
   "source": [
    "# CAUSAL INFRENCE ??"
   ]
  },
  {
   "cell_type": "markdown",
   "metadata": {},
   "source": [
    "## Flexible Approximate Inference With Guide Functions "
   ]
  },
  {
   "cell_type": "code",
   "execution_count": 20,
   "metadata": {},
   "outputs": [
    {
     "name": "stdout",
     "output_type": "stream",
     "text": [
      "tensor(9.3092)\n"
     ]
    },
    {
     "data": {
      "image/png": "[encoded data removed]",
      "text/plain": [
       "<Figure size 432x288 with 1 Axes>"
      ]
     },
     "metadata": {},
     "output_type": "display_data"
    }
   ],
   "source": [
    "guess = 8.5\n",
    "measurement = 9.5\n",
    "\n",
    "conditioned_scale = pyro.condition(scale, data={\"measurement\": measurement})\n",
    "\n",
    "marginal = pyro.infer.EmpiricalMarginal(\n",
    "    pyro.infer.Importance(conditioned_scale, num_samples=100).run(guess), sites=\"weight\")\n",
    "# When site is specified marginal will compute the marginal distribution of that site, \n",
    "#rather than of the return value\n",
    "\n",
    "# The marginal distribution concentrates around the data\n",
    "print(marginal())\n",
    "plt.hist([marginal().item() for _ in range(100)], range=(5.0, 12.0))\n",
    "plt.title(\"P(weight | measurement, guess)\")\n",
    "plt.xlabel(\"weight\")\n",
    "plt.ylabel(\"#\");"
   ]
  },
  {
   "cell_type": "markdown",
   "metadata": {},
   "source": [
    "* The above set up is inefficient because the prior distribution over `weigths` may be very far from true distribution depending on the intial value of `guess`\n",
    "* Pryo supports arbitrary stochastic functions, guide function/guides, as approximate posterior dist"
   ]
  },
  {
   "cell_type": "code",
   "execution_count": 47,
   "metadata": {},
   "outputs": [],
   "source": [
    "def scale_prior_guide(guess):\n",
    "    return pyro.sample(\"weight\", dist.Normal(guess, 1.))\n",
    "\n",
    "posterior = pyro.infer.Importance(conditioned_scale,\n",
    "                                  guide=scale_prior_guide,\n",
    "                                  num_samples=10)\n",
    "\n",
    "marginal = pyro.infer.EmpiricalMarginal(posterior.run(guess), sites=\"weight\")"
   ]
  },
  {
   "cell_type": "code",
   "execution_count": 49,
   "metadata": {},
   "outputs": [
    {
     "data": {
      "image/png": "[encoded data removed]",
      "text/plain": [
       "<Figure size 432x288 with 1 Axes>"
      ]
     },
     "metadata": {},
     "output_type": "display_data"
    }
   ],
   "source": [
    "def scale_posterior_guide(measurement, guess):\n",
    "    # note that torch.size(measurement, 0) is the total number of measurements\n",
    "    # that we're conditioning on\n",
    "    a = (guess + torch.sum(measurement)) / (measurement.size(0) + 1.0)\n",
    "    b = 1. / (measurement.size(0) + 1.0)\n",
    "    return pyro.sample(\"weight\", dist.Normal(a, b))\n",
    "\n",
    "posterior = pyro.infer.Importance(deferred_conditioned_scale,\n",
    "                                  guide=scale_posterior_guide,\n",
    "                                  num_samples=20)\n",
    "\n",
    "marginal = pyro.infer.EmpiricalMarginal(posterior.run(torch.tensor([measurement]), guess), sites=\"weight\")\n",
    "plt.hist([marginal().item() for _ in range(100)], range=(5.0, 12.0))\n",
    "plt.title(\"P(weight | measurement, guess)\")\n",
    "plt.xlabel(\"weight\")\n",
    "plt.ylabel(\"#\");"
   ]
  },
  {
   "cell_type": "markdown",
   "metadata": {},
   "source": [
    "## Variational Inference "
   ]
  },
  {
   "cell_type": "markdown",
   "metadata": {},
   "source": [
    "* in general it is intractable to specify a guide that is a good approximation to the posterior distribution of an arbitrary conditioned stochastic function\n",
    "* `pyro.param` can be used to specify a family of guides indexed by named parameters and search for the member of that family that is the best approximation\n",
    "* We can use `pyro.param` to parametrize `a` and `b` instead of specifying them by hand"
   ]
  },
  {
   "cell_type": "code",
   "execution_count": 22,
   "metadata": {},
   "outputs": [],
   "source": [
    "def scale_parametrized_guide(guess):\n",
    "    a = pyro.param(\"a\", torch.tensor(torch.randn(1) + guess))\n",
    "    b = pyro.param(\"b\", torch.randn(1))\n",
    "    return pyro.sample(\"weight\", dist.Normal(a, torch.abs(b)))"
   ]
  },
  {
   "cell_type": "code",
   "execution_count": 23,
   "metadata": {},
   "outputs": [
    {
     "data": {
      "image/png": "[encoded data removed]",
      "text/plain": [
       "<Figure size 432x288 with 1 Axes>"
      ]
     },
     "metadata": {},
     "output_type": "display_data"
    }
   ],
   "source": [
    "pyro.clear_param_store()\n",
    "svi = pyro.infer.SVI(model=conditioned_scale,\n",
    "                     guide=scale_parametrized_guide,\n",
    "                     optim=pyro.optim.SGD({\"lr\": 0.001}),\n",
    "                     loss=pyro.infer.Trace_ELBO())\n",
    "\n",
    "losses = []\n",
    "for t in range(1000):\n",
    "    losses.append(svi.step(guess))\n",
    "\n",
    "plt.plot(losses)\n",
    "plt.title(\"ELBO\")\n",
    "plt.xlabel(\"step\")\n",
    "plt.ylabel(\"loss\");"
   ]
  },
  {
   "cell_type": "code",
   "execution_count": 25,
   "metadata": {},
   "outputs": [
    {
     "data": {
      "image/png": "[encoded data removed]",
      "text/plain": [
       "<Figure size 432x288 with 1 Axes>"
      ]
     },
     "metadata": {},
     "output_type": "display_data"
    }
   ],
   "source": [
    "posterior = pyro.infer.Importance(conditioned_scale, scale_parametrized_guide, num_samples=10)\n",
    "marginal = pyro.infer.EmpiricalMarginal(posterior.run(guess), sites=\"weight\")\n",
    "\n",
    "plt.hist([marginal().item() for _ in range(100)], range=(5.0, 12.0))\n",
    "plt.title(\"P(weight | measurement, guess)\")\n",
    "plt.xlabel(\"weight\")\n",
    "plt.ylabel(\"#\");"
   ]
  },
  {
   "cell_type": "markdown",
   "metadata": {},
   "source": [
    "* We can also sample from the guide directly as an approximate posterior:"
   ]
  },
  {
   "cell_type": "code",
   "execution_count": 26,
   "metadata": {},
   "outputs": [
    {
     "data": {
      "image/png": "[encoded data removed]",
      "text/plain": [
       "<Figure size 432x288 with 1 Axes>"
      ]
     },
     "metadata": {},
     "output_type": "display_data"
    }
   ],
   "source": [
    "plt.hist([scale_parametrized_guide(guess).item() for _ in range(100)], range=(5.0, 12.0))\n",
    "plt.title(\"P(weight | measurement, guess)\")\n",
    "plt.xlabel(\"weight\")\n",
    "plt.ylabel(\"#\");"
   ]
  },
  {
   "cell_type": "code",
   "execution_count": null,
   "metadata": {},
   "outputs": [],
   "source": []
  }
 ],
 "metadata": {
  "kernelspec": {
   "display_name": "Python 3",
   "language": "python",
   "name": "python3"
  },
  "language_info": {
   "codemirror_mode": {
    "name": "ipython",
    "version": 3
   },
   "file_extension": ".py",
   "mimetype": "text/x-python",
   "name": "python",
   "nbconvert_exporter": "python",
   "pygments_lexer": "ipython3",
   "version": "3.5.2"
  }
 },
 "nbformat": 4,
 "nbformat_minor": 2
}
